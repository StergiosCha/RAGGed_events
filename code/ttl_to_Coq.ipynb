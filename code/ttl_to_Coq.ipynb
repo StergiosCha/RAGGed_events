
import os
import re
from rdflib import Graph, Namespace, URIRef, Literal, BNode
from rdflib.namespace import RDF, RDFS, OWL, XSD

# Define common namespaces
STE = Namespace("http://www.example.org/ste#")
EX = Namespace("http://example.org/")
DBP = Namespace("http://dbpedia.org/ontology/")

def clean_coq_identifier(name):
    """Convert URI/literals to valid Coq identifiers"""
    # Handle the case when name is not a string
    if not isinstance(name, str):
        name = str(name)
        
    # Extract the last part of the URI/name
    name = name.split('#')[-1].split('/')[-1]
    
    # Remove non-alphanumeric characters and replace with underscores
    clean = re.sub(r'[^a-zA-Z0-9]', '_', name)
    
    # Ensure it starts with a letter
    if clean and not clean[0].isalpha():
        clean = 'id_' + clean
    
    # If empty, use a default
    if not clean:
        clean = 'unnamed'
        
    return clean

def load_rdf(input_file):
    """Load RDF from file (auto-detects format)"""
    if not os.path.exists(input_file):
        print(f"Error: Input file {input_file} not found")
        return None
    
    g = Graph()
    try:
        # Try to determine format from file extension
        format_hint = None
        if input_file.lower().endswith('.ttl'):
            format_hint = 'turtle'
        elif input_file.lower().endswith('.owl') or input_file.lower().endswith('.rdf'):
            format_hint = 'xml'
            
        g.parse(input_file, format=format_hint)
        print(f"Successfully loaded {len(g)} triples from {input_file}")
        return g
    except Exception as e:
        print(f"Error loading RDF from {input_file}: {e}")
        return None

def parse_datetime_enhanced(datetime_str):
    """Enhanced datetime parser that handles both xsd:dateTime and string dates"""
    # Remove datatype suffix if present
    if "^^" in datetime_str:
        datetime_str = datetime_str.split("^^")[0].strip('"')
    
    # Handle string dates like "431 BC", "Summer 431 BC"
    if "BC" in datetime_str.upper():
        # Extract year from BC date
        bc_match = re.search(r'(\d+)\s*BC', datetime_str.upper())
        if bc_match:
            year = int(bc_match.group(1))
            # Return negative year for BC dates, with default month/day
            return (f"-{year}", "1", "1")
    
    # Handle string dates like "Summer 431 BC"
    if any(season in datetime_str for season in ["Summer", "Winter", "Spring", "Fall"]):
        year_match = re.search(r'(\d+)', datetime_str)
        if year_match:
            year = year_match.group(1)
            if "BC" in datetime_str.upper():
                return (f"-{year}", "6", "1")  # Approximate summer as month 6
            else:
                return (year, "6", "1")
    
    # Handle modern xsd:dateTime format: "YYYY-MM-DDThh:mm:ss"
    match = re.match(r"(-?\d{4})-(\d{2})-(\d{2})T(\d{2}):(\d{2}):(\d{2})", datetime_str)
    if match:
        year, month, day, hour, minute, second = match.groups()
        return (year, month, day)
    
    # Handle simple year strings
    if datetime_str.isdigit():
        return (datetime_str, "1", "1")
    
    return None

def extract_class_hierarchy(input_graph):
    """Extract class hierarchy from the RDF graph with proper rdfs:subClassOf handling"""
    class_hierarchy = {}
    
    # First, identify all classes used in the data, including DBpedia classes
    for s, p, o in input_graph.triples((None, RDF.type, None)):
        if isinstance(o, URIRef) and "Event" in str(o):
            # This could be a STE event or DBpedia event class
            class_uri = o
            class_name = str(class_uri).split('#')[-1].split('/')[-1]
            
            if class_uri not in class_hierarchy:
                class_hierarchy[class_uri] = {
                    'uri': class_uri,
                    'name': class_name,
                    'instances': [],
                    'superclasses': [],
                    'subclasses': []
                }
            
            # Add the instance to this class
            if s not in class_hierarchy[class_uri]['instances']:
                class_hierarchy[class_uri]['instances'].append(s)
    
    # Add DBpedia classes that might be used but not explicitly in the graph
    dbp_classes = {
        DBP.MilitaryConflict: "MilitaryConflict",
        DBP.HistoricalPeriod: "HistoricalPeriod", 
        DBP.Publication: "Publication",
        DBP.Battle: "Battle",
        DBP.War: "War",
        DBP.PoliticalEvent: "PoliticalEvent",
        DBP.SocietalEvent: "SocietalEvent",
        DBP.Ceremony: "Ceremony",
        DBP.Meeting: "Meeting",
        DBP.Disaster: "Disaster",
        DBP.Speech: "Speech",
        DBP.Revolt: "Revolt",
        STE.Event: "Event"
    }
    
    # Add classes that might be used but not explicitly in the graph
    for class_uri, class_name in dbp_classes.items():
        if class_uri not in class_hierarchy:
            class_hierarchy[class_uri] = {
                'uri': class_uri,
                'name': class_name,
                'instances': [],
                'superclasses': [],
                'subclasses': []
            }
    
    # Now look for explicit rdfs:subClassOf relationships in the graph
    explicit_subclass_found = False
    for s, p, o in input_graph.triples((None, RDFS.subClassOf, None)):
        if isinstance(s, URIRef) and isinstance(o, URIRef) and s in class_hierarchy and o in class_hierarchy:
            if o not in class_hierarchy[s]['superclasses']:
                class_hierarchy[s]['superclasses'].append(o)
            if s not in class_hierarchy[o]['subclasses']:
                class_hierarchy[o]['subclasses'].append(s)
            explicit_subclass_found = True
    
    # If no explicit subclass relationships found, add logical ones for historical events
    if not explicit_subclass_found:
        print("No explicit rdfs:subClassOf relationships found in graph, adding logical relationships...")
        
        # Define logical subclass relationships for historical events
        historical_relationships = [
            (DBP.Battle, DBP.MilitaryConflict),
            (DBP.War, DBP.MilitaryConflict),
            (DBP.MilitaryConflict, DBP.HistoricalPeriod),
            (DBP.PoliticalEvent, DBP.SocietalEvent),
            (DBP.Ceremony, DBP.SocietalEvent),
            (DBP.Speech, DBP.SocietalEvent),
            (DBP.Meeting, DBP.SocietalEvent),
            (DBP.Revolt, DBP.PoliticalEvent),
            (DBP.Disaster, DBP.SocietalEvent),
            (DBP.Publication, STE.Event),
            (DBP.HistoricalPeriod, STE.Event)
        ]
        
        # Add these logical relationships
        for subclass_uri, superclass_uri in historical_relationships:
            if subclass_uri in class_hierarchy and superclass_uri in class_hierarchy:
                print(f"  Adding: {class_hierarchy[subclass_uri]['name']} subClassOf {class_hierarchy[superclass_uri]['name']}")
                if superclass_uri not in class_hierarchy[subclass_uri]['superclasses']:
                    class_hierarchy[subclass_uri]['superclasses'].append(superclass_uri)
                if subclass_uri not in class_hierarchy[superclass_uri]['subclasses']:
                    class_hierarchy[superclass_uri]['subclasses'].append(subclass_uri)
    
    # Look for implicit class hierarchy relationships based on instance data
    event_to_classes = {}
    for s, p, o in input_graph.triples((None, RDF.type, None)):
        if isinstance(o, URIRef) and "Event" in str(o):
            if s not in event_to_classes:
                event_to_classes[s] = []
            event_to_classes[s].append(o)
    
    # Count co-occurrences of classes
    class_cooccurrence = {}
    for event, classes in event_to_classes.items():
        if len(classes) > 1:
            for i, class1 in enumerate(classes):
                for class2 in classes[i+1:]:
                    if class1 != class2:
                        key = (class1, class2)
                        if key not in class_cooccurrence:
                            class_cooccurrence[key] = 0
                        class_cooccurrence[key] += 1
    
    # If many events have both classes, suggest a subclass relationship
    # with the more specific class as the subclass
    if not explicit_subclass_found and len(class_hierarchy) > 1:
        for (class1, class2), count in class_cooccurrence.items():
            if count > 0:  # Any co-occurrence
                if class1 in class_hierarchy and class2 in class_hierarchy:
                    # Heuristic: DBpedia classes are typically more specific than STE.Event
                    if "dbpedia" in str(class1) and str(class2) == str(STE.Event):
                        if class2 not in class_hierarchy[class1]['superclasses']:
                            class_hierarchy[class1]['superclasses'].append(class2)
                        if class1 not in class_hierarchy[class2]['subclasses']:
                            class_hierarchy[class2]['subclasses'].append(class1)
                    elif "dbpedia" in str(class2) and str(class1) == str(STE.Event):
                        if class1 not in class_hierarchy[class2]['superclasses']:
                            class_hierarchy[class2]['superclasses'].append(class1)
                        if class2 not in class_hierarchy[class1]['subclasses']:
                            class_hierarchy[class1]['subclasses'].append(class2)
    
    # Verify that we have at least some subclass relationships
    has_subclass_rel = False
    for uri, info in class_hierarchy.items():
        if info['superclasses'] or info['subclasses']:
            has_subclass_rel = True
            break
    
    if not has_subclass_rel:
        print("Warning: No subclass relationships found or inferred in the class hierarchy")
    else:
        print(f"Found {sum(len(info['superclasses']) for _, info in class_hierarchy.items())} subclass relationships")
    
    print(f"Enhanced extraction found {len(class_hierarchy)} event classes")
    return class_hierarchy

def extract_event_relationships(input_graph):
    """Extract relationships between events (causes, precedes, partOf)"""
    relationships = {
        'causes': [],
        'precedes': [],
        'partOf': []
    }
    
    # Extract relationships
    for s, p, o in input_graph:
        if "causes" in str(p):
            relationships['causes'].append((s, o))
        elif "precedes" in str(p):
            relationships['precedes'].append((s, o))
        elif "partOf" in str(p):
            relationships['partOf'].append((s, o))
    
    return relationships

def find_most_specific_class(event_classes_tuples, class_hierarchy):
    """
    Find the most specific class name from a list of (URI, name) tuples using the hierarchy.
    Enhanced version to better identify the most specific class based on the hierarchy.
    """
    if not event_classes_tuples:
        return None
    
    if len(event_classes_tuples) == 1:
        return event_classes_tuples[0][1]  # Return the only class name
    
    # Build a graph of class relationships for this event
    class_graph = {}
    for uri, name in event_classes_tuples:
        class_graph[uri] = {
            'name': name,
            'parents': set(),
            'children': set()
        }
    
    # Populate parent-child relationships
    for uri, name in event_classes_tuples:
        if uri in class_hierarchy:
            # Add superclasses as parents
            for parent_uri in class_hierarchy[uri]['superclasses']:
                if parent_uri in class_graph:
                    class_graph[uri]['parents'].add(parent_uri)
                    class_graph[parent_uri]['children'].add(uri)
            
            # Check if this class is a parent of other classes
            for child_uri, child_data in class_graph.items():
                if uri in class_hierarchy.get(child_uri, {}).get('superclasses', []):
                    class_graph[child_uri]['parents'].add(uri)
                    class_graph[uri]['children'].add(child_uri)
    
    # Find classes with no children (most specific)
    leaf_classes = []
    for uri, data in class_graph.items():
        if not data['children']:
            leaf_classes.append((uri, data['name']))
    
    if leaf_classes:
        # If we have multiple leaf classes, pick the most specific one
        # Priority order: DBpedia classes > STE classes
        for uri, name in leaf_classes:
            if "dbpedia" in str(uri):
                return name
        
        # If no DBpedia class found, return the first leaf class
        return leaf_classes[0][1]
    
    # Fallback to first class if no proper leaf found
    return event_classes_tuples[0][1]

def convert_to_coq(input_graph, output_file=None):
    """Convert RDF graph to Coq definitions with class hierarchy and relationships"""
    if input_graph is None:
        print("No input graph provided")
        return None
    
    # Bind namespaces for easier predicate handling
    input_graph.bind('ste', STE)
    input_graph.bind('rdf', RDF)
    input_graph.bind('rdfs', RDFS)
    input_graph.bind('xsd', XSD)
    input_graph.bind('dbp', DBP)
    
    # Extract class hierarchy
    class_hierarchy = extract_class_hierarchy(input_graph)
    print(f"Extracted {len(class_hierarchy)} event classes from the RDF")
    
    # Extract event relationships
    relationships = extract_event_relationships(input_graph)
    print(f"Extracted {len(relationships['causes'])} causes, {len(relationships['precedes'])} precedes, and {len(relationships['partOf'])} partOf relationships")
    
    coq_content = ""
    try:
        # Write Coq preamble
        coq_content += "(* Generated from Fixed RAG RDF data with enhanced class hierarchy and event relationships *)\n\n"
        coq_content += "Require Import String.\n"
        coq_content += "Require Import List.\n"
        coq_content += "Require Import Nat.\n"
        coq_content += "Require Import ZArith.\n"
        coq_content += "Import ListNotations.\n\n"
        
        # 1. Define Event Classes
        coq_content += "(* Event Class Type - defines the enhanced class hierarchy from DBpedia ontology *)\n"
        coq_content += "Inductive EventClass : Type :=\n"
        
        # Add all event classes
        class_list = sorted([(uri, info) for uri, info in class_hierarchy.items()], key=lambda x: x[1]['name'])
        if class_list:
            for i, (uri, info) in enumerate(class_list):
                clean_name = clean_coq_identifier(info['name'])
                separator = ";" if i < len(class_list) - 1 else ""
                coq_content += f"  | EC_{clean_name}{separator}\n"
        else:
            coq_content += "  | EC_GenericEvent\n"
        
        coq_content += ".\n\n"
        
        # Add subclass relationship
        coq_content += "(* Enhanced subclass relationship for event classes from ontology *)\n"
        coq_content += "Definition is_subclass_of (c1 c2 : EventClass) : Prop :=\n"
        coq_content += "  match c1, c2 with\n"
        
        # Add subclass relations from the extracted hierarchy
        subclass_relations_added = False
        for uri, info in class_hierarchy.items():
            for super_uri in info['superclasses']:
                if super_uri in class_hierarchy:
                    clean_class = clean_coq_identifier(info['name'])
                    clean_super = clean_coq_identifier(class_hierarchy[super_uri]['name'])
                    
                    coq_content += f"  | EC_{clean_class}, EC_{clean_super} => True\n"
                    subclass_relations_added = True
        
        # Default case
        if subclass_relations_added:
            coq_content += "  | _, _ => False\n"
        else:
            coq_content += "  | _, _ => False (* No subclass relationships found *)\n"
        
        coq_content += "  end.\n\n"
        
        # 2. Collect event types from hasType predicates
        event_types = set()
        for s, p, o in input_graph:
            if str(p).endswith('hasType') and isinstance(o, Literal):
                event_types.add(str(o))
        
        # Define event types
        coq_content += "(* Event type definitions from RAG extraction *)\n"
        coq_content += "Inductive EventType : Type :=\n"
        
        # Write event types
        if event_types:
            event_types_list = sorted(event_types)
            for i, event_type in enumerate(event_types_list):
                clean_name = clean_coq_identifier(event_type)
                separator = ";" if i < len(event_types_list) - 1 else ""
                coq_content += f"  | ET_{clean_name}{separator}\n"
        else:
            coq_content += "  | ET_GenericEvent\n"
            
        coq_content += ".\n\n"
        
        # 3. Collect participants from hasAgent predicates
        participants = set()
        for s, p, o in input_graph:
            if str(p).endswith('hasAgent') and isinstance(o, Literal):
                participants.add(str(o))
        
        # Also collect from DBpedia participant properties
        for s, p, o in input_graph:
            if "participant" in str(p) and isinstance(o, Literal):
                participants.add(str(o))
        
        # Define participants
        coq_content += "(* Participant definitions from historical events *)\n"
        coq_content += "Inductive Participant : Type :=\n"
        
        # Write participants
        if participants:
            participants_list = sorted(participants)
            for i, participant in enumerate(participants_list):
                clean_name = clean_coq_identifier(participant)
                separator = ";" if i < len(participants_list) - 1 else ""
                coq_content += f"  | P_{clean_name}{separator}\n"
        else:
            coq_content += "  | P_GenericParticipant\n"
            
        coq_content += ".\n\n"
        
        # 4. Collect locations from hasLocation predicates and DBpedia location properties
        locations = set()
        for s, p, o in input_graph:
            if str(p).endswith('hasLocation') and isinstance(o, Literal):
                locations.add(str(o))
            elif "place" in str(p) and isinstance(o, Literal):
                locations.add(str(o))
        
        # Define locations
        coq_content += "(* Location definitions from historical events *)\n"
        coq_content += "Inductive Location : Type :=\n"
        
        # Write locations
        if locations:
            locations_list = sorted(locations)
            for i, location in enumerate(locations_list):
                clean_name = clean_coq_identifier(location)
                separator = ";" if i < len(locations_list) - 1 else ""
                coq_content += f"  | L_{clean_name}{separator}\n"
        else:
            coq_content += "  | L_GenericLocation\n"
            
        coq_content += ".\n\n"
        
        # 5. Define TimePoint type with BC support
        coq_content += "(* Time definitions with BC date support *)\n"
        coq_content += "Definition TimePoint := (Z * nat * nat)%type. (* year (Z for BC dates), month, day *)\n\n"
        
        # 6. Define Event record type with class field
        coq_content += "(* Enhanced Event record type with ontology class field *)\n"
        coq_content += "Record Event : Type := mkEvent {\n"
        coq_content += "  event_id : string;\n"
        coq_content += "  event_type : EventType;\n"
        coq_content += "  event_class : option EventClass; (* Enhanced class from DBpedia ontology *)\n"
        coq_content += "  participants : list Participant;\n"
        coq_content += "  location : option Location;\n"
        coq_content += "  time : option TimePoint;\n"
        coq_content += "  description : string\n"
        coq_content += "}.\n\n"
        
        # 7. Define relationship types
        coq_content += "(* Enhanced event relationship types from RAG extraction *)\n"
        coq_content += "Inductive EventRelationship : Type :=\n"
        coq_content += "  | Causes  (* One event causes another *)\n"
        coq_content += "  | Precedes (* Temporal precedence *)\n"
        coq_content += "  | PartOf   (* One event is part of another *)\n"
        coq_content += ".\n\n"
        
        coq_content += "(* Event relationships record *)\n"
        coq_content += "Record EventRelation : Type := mkEventRelation {\n"
        coq_content += "  relation_type : EventRelationship;\n"
        coq_content += "  source_event : string;\n"
        coq_content += "  target_event : string\n"
        coq_content += "}.\n\n"
        
        # 8. Process and write specific events
        coq_content += "(* Specific event instances from enhanced RAG extraction *)\n"
        
        # Find all event instances
        events = set()
        for s, p, o in input_graph:
            if p == RDF.type and str(o).endswith('Event'):
                events.add(s)
        
        event_id_map = {}  # To map event URIs to their IDs
        
        # For each event, build a Coq definition
        for event_uri in events:
            event_id = str(event_uri).split('#')[-1].split('/')[-1]
            clean_event_id = clean_coq_identifier(event_id)
            event_id_map[event_uri] = event_id
            
            # Get event type from hasType
            event_type = None
            for _, p, o in input_graph.triples((event_uri, None, None)):
                if str(p).endswith('hasType') and isinstance(o, Literal):
                    event_type = str(o)
                    break
            
            # Get event class(es) (rdf:type) - Collect (URI, name) tuples
            event_classes_tuples = []
            for _, _, o in input_graph.triples((event_uri, RDF.type, None)):
                if isinstance(o, URIRef) and o in class_hierarchy:  # Check it's a known class
                    class_name = class_hierarchy[o]['name']
                    event_classes_tuples.append((o, class_name))
            
            # Find the most specific class using the enhanced function
            chosen_class_name = find_most_specific_class(event_classes_tuples, class_hierarchy)
            
            # Get participants from hasAgent and DBpedia participant properties
            event_participants = []
            for _, p, o in input_graph.triples((event_uri, None, None)):
                if (str(p).endswith('hasAgent') or "participant" in str(p)) and isinstance(o, Literal):
                    participant = str(o)
                    # Split comma-separated participants
                    if "," in participant:
                        event_participants.extend([p.strip() for p in participant.split(",")])
                    else:
                        event_participants.append(participant)
            
            # Get location from hasLocation and DBpedia place properties
            location = None
            for _, p, o in input_graph.triples((event_uri, None, None)):
                if (str(p).endswith('hasLocation') or "place" in str(p)) and isinstance(o, Literal):
                    location = str(o)
                    break
            
            # Get time from hasTime
            time_value = None
            for _, p, o in input_graph.triples((event_uri, None, None)):
                if str(p).endswith('hasTime'):
                    time_value = str(o)
                    break
            
            # Parse datetime if available using enhanced parser
            datetime_components = None
            if time_value:
                datetime_components = parse_datetime_enhanced(time_value)
            
            # Get description from hasResult
            description = ""
            for _, p, o in input_graph.triples((event_uri, None, None)):
                if str(p).endswith('hasResult'):
                    description = str(o)
                    break
            
            # Build Coq definition using the explicit constructor
            coq_content += f"Definition event_{clean_event_id} : Event := mkEvent\n"
            coq_content += f"  \"{event_id}\"\n"
            
            # Event type
            if event_type:
                clean_type = clean_coq_identifier(event_type)
                coq_content += f"  ET_{clean_type}\n"
            else:
                coq_content += "  ET_GenericEvent\n"
            
            # Event class
            if chosen_class_name:
                clean_class = clean_coq_identifier(chosen_class_name)
                coq_content += f"  (Some EC_{clean_class})\n"
            else:
                coq_content += "  None\n"
            
            # Format participants list
            if event_participants:
                participants_str = "; ".join([f"P_{clean_coq_identifier(p)}" for p in event_participants])
                coq_content += f"  [{participants_str}]\n"
            else:
                coq_content += "  []\n"
            
            # Location
            if location:
                clean_loc = clean_coq_identifier(location)
                coq_content += f"  (Some L_{clean_loc})\n"
            else:
                coq_content += "  None\n"
            
            # Time with enhanced BC support
            if datetime_components:
                year, month, day = datetime_components
                
                # Handle negative years (BC/BCE dates)
                if year.startswith('-'):
                    year_val = year  # Already has negative sign
                else:
                    year_val = year
                
                coq_content += f"  (Some ({year_val}%Z, {int(month)}, {int(day)}))\n"
            else:
                coq_content += "  None\n"
            
            # Description (escape quotes)
            safe_description = description.replace('"', '\\"')
            coq_content += f"  \"{safe_description}\".\n\n"
        
        # 9. Define collection of all events
        coq_content += "(* Collection of all enhanced events *)\n"
        coq_content += "Definition all_events : list Event := [\n"
        event_list = list(events)
        for i, event_uri in enumerate(event_list):
            event_id = str(event_uri).split('#')[-1].split('/')[-1]
            clean_event_id = clean_coq_identifier(event_id)
            separator = ";" if i < len(event_list) - 1 else ""
            coq_content += f"  event_{clean_event_id}{separator}\n"
        coq_content += "].\n\n"
        
        # 10. Define relationships between events
        coq_content += "(* Enhanced event relationships from RAG extraction *)\n"
        all_relations = []
        
        # Add causes relationships
        for source, target in relationships['causes']:
            if source in event_id_map and target in event_id_map:
                relation = {
                    'type': 'Causes',
                    'source': event_id_map[source],
                    'target': event_id_map[target]
                }
                all_relations.append(relation)
        
        # Add precedes relationships
        for source, target in relationships['precedes']:
            if source in event_id_map and target in event_id_map:
                relation = {
                    'type': 'Precedes',
                    'source': event_id_map[source],
                    'target': event_id_map[target]
                }
                all_relations.append(relation)
        
        # Add partOf relationships
        for source, target in relationships['partOf']:
            if source in event_id_map and target in event_id_map:
                relation = {
                    'type': 'PartOf',
                    'source': event_id_map[source],
                    'target': event_id_map[target]
                }
                all_relations.append(relation)
        
        # Write relation definitions
        for i, relation in enumerate(all_relations):
            rel_type = relation['type']
            source = relation['source']
            target = relation['target']
            
            coq_content += f"Definition relation_{i+1} : EventRelation := mkEventRelation\n"
            coq_content += f"  {rel_type}\n"
            coq_content += f"  \"{source}\"\n"
            coq_content += f"  \"{target}\".\n\n"
        
        # Define collection of all relationships
        if all_relations:
            coq_content += "(* Collection of all enhanced event relationships *)\n"
            coq_content += "Definition all_relations : list EventRelation := [\n"
            for i in range(len(all_relations)):
                separator = ";" if i < len(all_relations) - 1 else ""
                coq_content += f"  relation_{i+1}{separator}\n"
            coq_content += "].\n\n"
        else:
            coq_content += "(* No event relationships found *)\n"
            coq_content += "Definition all_relations : list EventRelation := [].\n\n"
        
        # 11. Add enhanced reasoning functions
        coq_content += "(* Enhanced reasoning functions and theorems for historical events *)\n\n"
        
        # Date comparison with BC support
        coq_content += "(* Function to compare two dates with enhanced BC support *)\n"
        coq_content += "Definition date_before (d1 d2 : TimePoint) : bool :=\n"
        coq_content += "  match d1, d2 with\n"
        coq_content += "  | (y1, m1, d1), (y2, m2, d2) => \n"
        coq_content += "      if Z.ltb y1 y2 then true\n"
        coq_content += "      else if Z.ltb y2 y1 then false\n"
        coq_content += "      else if Nat.ltb m1 m2 then true\n"
        coq_content += "      else if Nat.ltb m2 m1 then false\n"
        coq_content += "      else Nat.ltb d1 d2\n"
        coq_content += "  end.\n\n"
        
        coq_content += "(* Function to check if an event happened before another *)\n"
        coq_content += "Definition event_before (e1 e2 : Event) : bool :=\n"
        coq_content += "  match time e1, time e2 with\n"
        coq_content += "  | Some t1, Some t2 => date_before t1 t2\n"
        coq_content += "  | _, _ => false (* Cannot determine without dates *)\n"
        coq_content += "  end.\n\n"
        
        # Participant equality
        coq_content += "(* Decidable equality for participants *)\n"
        coq_content += "Lemma participant_eq_dec : forall x y : Participant, {x = y} + {x <> y}.\n"
        coq_content += "Proof.\n"
        coq_content += "  decide equality.\n"
        coq_content += "Defined.\n\n"
        
        # Common elements helper
        coq_content += "(* Function to check if two lists share any element *)\n"
        coq_content += "Fixpoint has_common_element {A : Type} (eq_dec : forall x y : A, {x = y} + {x <> y})\n"
        coq_content += "         (l1 l2 : list A) : bool :=\n"
        coq_content += "  match l1 with\n"
        coq_content += "  | [] => false\n"
        coq_content += "  | x :: xs => if existsb (fun y => if eq_dec x y then true else false) l2\n"
        coq_content += "               then true\n"
        coq_content += "               else has_common_element eq_dec xs l2\n"
        coq_content += "  end.\n\n"
        
        # Common participants
        coq_content += "(* Check if two events share any participants *)\n"
        coq_content += "Definition has_common_participant (e1 e2 : Event) : bool :=\n"
        coq_content += "  has_common_element participant_eq_dec (participants e1) (participants e2).\n\n"
        
        # Location equality
        coq_content += "(* Decidable equality for locations *)\n"
        coq_content += "Lemma location_eq_dec : forall x y : Location, {x = y} + {x <> y}.\n"
        coq_content += "Proof.\n"
        coq_content += "  decide equality.\n"
        coq_content += "Defined.\n\n"
        
        # Same location
        coq_content += "(* Check if two events happened at the same location *)\n"
        coq_content += "Definition same_location (e1 e2 : Event) : bool :=\n"
        coq_content += "  match location e1, location e2 with\n"
        coq_content += "  | Some l1, Some l2 => if location_eq_dec l1 l2 then true else false\n"
        coq_content += "  | _, _ => false\n"
        coq_content += "  end.\n\n"
        
        # Class equality
        coq_content += "(* Decidable equality for event classes *)\n"
        coq_content += "Lemma event_class_eq_dec : forall x y : EventClass, {x = y} + {x <> y}.\n"
        coq_content += "Proof.\n"
        coq_content += "  decide equality.\n"
        coq_content += "Defined.\n\n"
        
        # Same class
        coq_content += "(* Check if two events have the same class *)\n"
        coq_content += "Definition same_class (e1 e2 : Event) : bool :=\n"
        coq_content += "  match event_class e1, event_class e2 with\n"
        coq_content += "  | Some c1, Some c2 => if event_class_eq_dec c1 c2 then true else false\n"
        coq_content += "  | _, _ => false\n"
        coq_content += "  end.\n\n"
        
        # Enhanced relationship functions
        if all_relations:
            coq_content += "(* Find all causes relationships for an event *)\n"
            coq_content += "Definition find_causes (event_id : string) : list EventRelation :=\n"
            coq_content += "  filter (fun r => andb (String.eqb (source_event r) event_id) (match relation_type r with Causes => true | _ => false end)) all_relations.\n\n"
            
            coq_content += "(* Find all precedes relationships for an event *)\n"
            coq_content += "Definition find_precedes (event_id : string) : list EventRelation :=\n"
            coq_content += "  filter (fun r => andb (String.eqb (source_event r) event_id) (match relation_type r with Precedes => true | _ => false end)) all_relations.\n\n"
            
            coq_content += "(* Find all partOf relationships for an event *)\n"
            coq_content += "Definition find_part_of (event_id : string) : list EventRelation :=\n"
            coq_content += "  filter (fun r => andb (String.eqb (source_event r) event_id) (match relation_type r with PartOf => true | _ => false end)) all_relations.\n\n"
        
        # Event existence theorem
        if events:
            coq_content += "(* Theorem - existence of enhanced events *)\n"
            coq_content += "Theorem events_exist : length all_events > 0.\n"
            coq_content += "Proof.\n"
            coq_content += "  simpl. intuition.\n"
            coq_content += "Qed.\n\n"
        
        # Enhanced causality functions
        coq_content += "(* Enhanced causality analysis *)\n"
        coq_content += "Definition may_have_caused (e1 e2 : Event) : bool :=\n"
        coq_content += "  andb (event_before e1 e2) (has_common_participant e1 e2).\n\n"
        
        coq_content += "(* Location-based causality analysis *)\n"
        coq_content += "Definition location_based_causality (e1 e2 : Event) : bool :=\n"
        coq_content += "  andb (event_before e1 e2) (same_location e1 e2).\n\n"
        
        # Enhanced filtering functions
        coq_content += "(* Find all events involving a specific participant *)\n"
        coq_content += "Definition events_with_participant (p : Participant) (events : list Event) : list Event :=\n"
        coq_content += "  filter (fun e => existsb (fun p' => if participant_eq_dec p p' then true else false) (participants e)) events.\n\n"
        
        coq_content += "(* Find all events at a specific location *)\n"
        coq_content += "Definition events_at_location (l : Location) (events : list Event) : list Event :=\n"
        coq_content += "  filter (fun e => match location e with\n"
        coq_content += "                   | Some l' => if location_eq_dec l l' then true else false\n"
        coq_content += "                   | None => false\n"
        coq_content += "                   end) events.\n\n"
        
        coq_content += "(* Find all events of a specific class *)\n"
        coq_content += "Definition events_of_class (c : EventClass) (events : list Event) : list Event :=\n"
        coq_content += "  filter (fun e => match event_class e with\n"
        coq_content += "                   | Some c' => if event_class_eq_dec c c' then true else false\n"
        coq_content += "                   | None => false\n"
        coq_content += "                   end) events.\n\n"
        
        # Enhanced class hierarchy reasoning
        coq_content += "(* Check if an event belongs to a class or its subclasses *)\n"
        coq_content += "Fixpoint is_instance_of_class_or_subclass (e : Event) (target_class : EventClass) : bool :=\n"
        coq_content += "  match event_class e with\n"
        coq_content += "  | Some c => if event_class_eq_dec c target_class then true\n"
        coq_content += "              else (* This would require implementing subclass checking *)\n"
        coq_content += "                   false (* Simplified for now *)\n"
        coq_content += "  | None => false\n"
        coq_content += "  end.\n\n"
        
        # Example theorems with enhanced data
        if participants:
            first_participant = sorted(participants)[0]
            clean_participant = clean_coq_identifier(first_participant)
            coq_content += f"(* Enhanced theorem about events involving {first_participant} *)\n"
            coq_content += f"Definition example_events := events_with_participant P_{clean_participant} all_events.\n\n"
            
            coq_content += f"Theorem {clean_participant}_participated : length example_events >= 0.\n"
            coq_content += "Proof.\n"
            coq_content += "  simpl. auto.\n"
            coq_content += "Qed.\n\n"
        
        # Enhanced class-based theorems
        military_events = False
        for uri, info in class_hierarchy.items():
            if "Military" in info['name'] and info['instances']:
                military_events = True
                clean_class = clean_coq_identifier(info['name'])
                coq_content += f"(* Enhanced theorem about {info['name']} events *)\n"
                coq_content += f"Definition military_conflicts := events_of_class EC_{clean_class} all_events.\n\n"
                coq_content += "Theorem has_military_conflicts : length military_conflicts >= 0.\n"
                coq_content += "Proof.\n"
                coq_content += "  simpl. auto.\n"
                coq_content += "Qed.\n\n"
                break
        
        # Enhanced historical period theorem
        for uri, info in class_hierarchy.items():
            if "Historical" in info['name'] and info['instances']:
                clean_class = clean_coq_identifier(info['name'])
                coq_content += f"(* Theorem about {info['name']} events *)\n"
                coq_content += f"Definition historical_events := events_of_class EC_{clean_class} all_events.\n\n"
                coq_content += "Theorem has_historical_events : length historical_events >= 0.\n"
                coq_content += "Proof.\n"
                coq_content += "  simpl. auto.\n"
                coq_content += "Qed.\n\n"
                break
        
        # Add enhanced relationship theorems
        if all_relations:
            coq_content += "(* Enhanced theorem about event relationships *)\n"
            coq_content += "Theorem has_relationships : length all_relations > 0.\n"
            coq_content += "Proof.\n"
            coq_content += "  simpl. intuition.\n"
            coq_content += "Qed.\n\n"
            
            # Add theorems about specific relationship types
            if relationships['causes']:
                event_id = event_id_map[relationships['causes'][0][0]]
                clean_id = clean_coq_identifier(event_id)
                coq_content += f"(* Enhanced causal relationship analysis for Event{event_id} *)\n"
                coq_content += f"Definition causes_of_{clean_id} := find_causes \"{event_id}\".\n\n"
                coq_content += f"Theorem event_{clean_id}_has_causes : length causes_of_{clean_id} >= 0.\n"
                coq_content += "Proof.\n"
                coq_content += "  simpl. auto.\n"
                coq_content += "Qed.\n\n"
            
            if relationships['precedes']:
                event_id = event_id_map[relationships['precedes'][0][0]]
                clean_id = clean_coq_identifier(event_id)
                coq_content += f"(* Enhanced temporal relationship analysis for Event{event_id} *)\n"
                coq_content += f"Definition precedes_of_{clean_id} := find_precedes \"{event_id}\".\n\n"
                coq_content += f"Theorem event_{clean_id}_has_precedes : length precedes_of_{clean_id} >= 0.\n"
                coq_content += "Proof.\n"
                coq_content += "  simpl. auto.\n"
                coq_content += "Qed.\n\n"
            
            if relationships['partOf']:
                event_id = event_id_map[relationships['partOf'][0][0]]
                clean_id = clean_coq_identifier(event_id)
                coq_content += f"(* Enhanced part-of relationship analysis for Event{event_id} *)\n"
                coq_content += f"Definition part_of_{clean_id} := find_part_of \"{event_id}\".\n\n"
                coq_content += f"Theorem event_{clean_id}_has_part_of : length part_of_{clean_id} >= 0.\n"
                coq_content += "Proof.\n"
                coq_content += "  simpl. auto.\n"
                coq_content += "Qed.\n\n"
        
        # Add enhanced utility functions for timeline analysis
        coq_content += "(* Enhanced timeline utility functions *)\n"
        coq_content += "Definition get_year (e : Event) : option Z :=\n"
        coq_content += "  match time e with\n"
        coq_content += "  | Some (y, _, _) => Some y\n"
        coq_content += "  | None => None\n"
        coq_content += "  end.\n\n"
        
        coq_content += "Definition get_month (e : Event) : option nat :=\n"
        coq_content += "  match time e with\n"
        coq_content += "  | Some (_, m, _) => Some m\n"
        coq_content += "  | None => None\n"
        coq_content += "  end.\n\n"
        
        coq_content += "Definition get_day (e : Event) : option nat :=\n"
        coq_content += "  match time e with\n"
        coq_content += "  | Some (_, _, d) => Some d\n"
        coq_content += "  | None => None\n"
        coq_content += "  end.\n\n"
        
        coq_content += "(* Check if an event happened in BC era *)\n"
        coq_content += "Definition is_bc_event (e : Event) : bool :=\n"
        coq_content += "  match time e with\n"
        coq_content += "  | Some (y, _, _) => Z.ltb y 0%Z\n"
        coq_content += "  | None => false\n"
        coq_content += "  end.\n\n"
        
        coq_content += "(* Get all BC events *)\n"
        coq_content += "Definition bc_events (events : list Event) : list Event :=\n"
        coq_content += "  filter is_bc_event events.\n\n"
        
        coq_content += "(* Get all AD events *)\n"
        coq_content += "Definition ad_events (events : list Event) : list Event :=\n"
        coq_content += "  filter (fun e => negb (is_bc_event e)) events.\n\n"
        
        # Add theorem about BC events if any exist
        bc_events_exist = False
        for event_uri in events:
            for _, p, o in input_graph.triples((event_uri, None, None)):
                if str(p).endswith('hasTime'):
                    time_value = str(o)
                    if "BC" in time_value.upper():
                        bc_events_exist = True
                        break
            if bc_events_exist:
                break
        
        if bc_events_exist:
            coq_content += "(* Theorem about BC events *)\n"
            coq_content += "Definition ancient_events := bc_events all_events.\n\n"
            coq_content += "Theorem has_ancient_events : length ancient_events > 0.\n"
            coq_content += "Proof.\n"
            coq_content += "  simpl. intuition.\n"
            coq_content += "Qed.\n\n"
        
        # Enhanced sorting function placeholder
        coq_content += "(* Enhanced function to sort events chronologically *)\n"
        coq_content += "Definition sort_events_by_time (events : list Event) : list Event :=\n"
        coq_content += "  (* This would require implementing a sorting algorithm *)\n"
        coq_content += "  (* For simplicity, we return the original list for now *)\n"
        coq_content += "  events.\n\n"
        
        # DBpedia property analysis functions
        coq_content += "(* Enhanced analysis functions for DBpedia properties *)\n"
        coq_content += "Definition has_specific_participants (e : Event) : bool :=\n"
        coq_content += "  match participants e with\n"
        coq_content += "  | [] => false\n"
        coq_content += "  | _ => true\n"
        coq_content += "  end.\n\n"
        
        coq_content += "(* Count events with specific participants *)\n"
        coq_content += "Definition events_with_specific_participants : nat :=\n"
        coq_content += "  length (filter has_specific_participants all_events).\n\n"
        
        # Final summary theorem
        coq_content += "(* Enhanced summary theorem about the event extraction *)\n"
        coq_content += "Theorem event_extraction_summary :\n"
        coq_content += "  (length all_events >= 0) /\\\n"
        if all_relations:
            coq_content += "  (length all_relations >= 0) /\\\n"
        coq_content += "  (events_with_specific_participants >= 0).\n"
        coq_content += "Proof.\n"
        coq_content += "  split; [| split]; simpl; auto.\n"
        coq_content += "Qed.\n\n"
        
        # If an output file was specified, write to it
        if output_file:
            with open(output_file, 'w') as f:
                f.write(coq_content)
            print(f"Successfully saved enhanced Coq definitions to {output_file}")
        
        # Return the content
        return coq_content
    
    except Exception as e:
        print(f"Error converting to Coq: {e}")
        import traceback
        traceback.print_exc()
        return None

def main(input_file='extracted_events_rag_fixed.ttl', output_file='events_hierarchy_fixed.v'):
    """Enhanced main function to convert fixed RAG RDF to Coq."""
    print(f"🚀 Converting enhanced RAG output from {input_file} to Coq...")
    
    # Load RDF data
    rdf_graph = load_rdf(input_file)
    
    if rdf_graph is None:
        print(f"❌ Failed to load RDF from {input_file}")
        return
    
    print(f"📊 Loaded {len(rdf_graph)} triples from fixed RAG extraction")
    
    # Convert to Coq with enhanced processing
    coq_content = convert_to_coq(rdf_graph, output_file)
    
    if coq_content:
        print(f"✅ Successfully converted fixed RAG RDF to Coq!")
        print(f"📄 Output saved to: {output_file}")
        
        # Print summary of what was converted
        print("\n📊 Enhanced Conversion Summary:")
        print(f"   - Input: {input_file}")
        print(f"   - Output: {output_file}")
        print(f"   - RDF triples processed: {len(rdf_graph)}")
        
        # Count events
        events = set()
        for s, p, o in rdf_graph.triples((None, RDF.type, None)):
            if "Event" in str(o):
                events.add(s)
        print(f"   - Events converted: {len(events)}")
        
        # Count DBpedia classes used
        dbp_classes = set()
        ste_classes = set()
        for s, p, o in rdf_graph.triples((None, RDF.type, None)):
            if "dbpedia.org" in str(o):
                dbp_classes.add(str(o).split('/')[-1])
            elif "ste#Event" in str(o):
                ste_classes.add("Event")
        
        print(f"   - DBpedia classes used: {len(dbp_classes)}")
        if dbp_classes:
            print(f"     Classes: {', '.join(sorted(dbp_classes))}")
        print(f"   - STE classes used: {len(ste_classes)}")
        
        # Count relationships
        relationships = 0
        rel_types = set()
        for s, p, o in rdf_graph:
            if any(rel in str(p) for rel in ['causes', 'precedes', 'partOf']):
                relationships += 1
                if 'causes' in str(p):
                    rel_types.add('causes')
                elif 'precedes' in str(p):
                    rel_types.add('precedes')
                elif 'partOf' in str(p):
                    rel_types.add('partOf')
        
        print(f"   - Event relationships: {relationships}")
        if rel_types:
            print(f"     Types: {', '.join(sorted(rel_types))}")
        
        # Count DBpedia properties
        dbp_properties = set()
        for s, p, o in rdf_graph:
            if "dbpedia.org" in str(p):
                dbp_properties.add(str(p).split('/')[-1].split('#')[-1])
        
        print(f"   - DBpedia properties used: {len(dbp_properties)}")
        if dbp_properties:
            print(f"     Properties: {', '.join(sorted(dbp_properties))}")
        
        # Check for BC dates
        bc_dates = 0
        for s, p, o in rdf_graph:
            if str(p).endswith('hasTime') and "BC" in str(o).upper():
                bc_dates += 1
        
        if bc_dates > 0:
            print(f"   - BC dates found: {bc_dates}")
        
        print("\n🎯 Enhanced Features Added:")
        print("   ✅ Enhanced class hierarchy with DBpedia integration")
        print("   ✅ Improved BC date handling")
        print("   ✅ Enhanced event relationships")
        print("   ✅ Better participant and location extraction")
        print("   ✅ Advanced reasoning functions")
        print("   ✅ Historical event analysis capabilities")
        
    else:
        print(f"❌ Failed to convert RDF from {input_file} to Coq")

if __name__ == '__main__':
    # Run with the fixed RAG output files
    main(
        input_file='extracted_events_rag_with_multi_kg.ttl',
        output_file='enhanced_rag.v'
    )
